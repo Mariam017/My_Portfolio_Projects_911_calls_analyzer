{
 "cells": [
  {
   "cell_type": "code",
   "execution_count": 26,
   "metadata": {
    "collapsed": false,
    "nbpresent": {
     "id": "1f2892e5-2c0b-4cc4-bc81-fabed064df35"
    }
   },
   "outputs": [],
   "source": [
    "import pandas as pd\n",
    "import numpy as np \n",
    "import matplotlib.pyplot  as plt\n",
    "import seaborn as sns\n",
    "\n",
    "% matplotlib inline\n",
    "sns.set_style(\"whitegrid\")\n"
   ]
  },
  {
   "cell_type": "code",
   "execution_count": 27,
   "metadata": {
    "collapsed": false,
    "nbpresent": {
     "id": "81f1617e-7d70-453f-ac58-116c5b305b87"
    }
   },
   "outputs": [
    {
     "data": {
      "text/plain": [
       "Index(['lat', 'lng', 'desc', 'zip', 'title', 'timeStamp', 'twp', 'addr', 'e'], dtype='object')"
      ]
     },
     "execution_count": 27,
     "metadata": {},
     "output_type": "execute_result"
    }
   ],
   "source": [
    "df=(pd.read_csv('911.csv'))\n",
    "df.columns\n"
   ]
  },
  {
   "cell_type": "code",
   "execution_count": 28,
   "metadata": {
    "collapsed": false,
    "nbpresent": {
     "id": "02f15382-df1e-45e7-bd06-1a4d11f15659"
    }
   },
   "outputs": [
    {
     "data": {
      "text/html": [
       "<div>\n",
       "<table border=\"1\" class=\"dataframe\">\n",
       "  <thead>\n",
       "    <tr style=\"text-align: right;\">\n",
       "      <th></th>\n",
       "      <th>lat</th>\n",
       "      <th>lng</th>\n",
       "      <th>desc</th>\n",
       "      <th>zip</th>\n",
       "      <th>title</th>\n",
       "      <th>timeStamp</th>\n",
       "      <th>twp</th>\n",
       "      <th>addr</th>\n",
       "      <th>e</th>\n",
       "    </tr>\n",
       "  </thead>\n",
       "  <tbody>\n",
       "    <tr>\n",
       "      <th>0</th>\n",
       "      <td>40.297876</td>\n",
       "      <td>-75.581294</td>\n",
       "      <td>REINDEER CT &amp; DEAD END;  NEW HANOVER; Station ...</td>\n",
       "      <td>19525.0</td>\n",
       "      <td>EMS: BACK PAINS/INJURY</td>\n",
       "      <td>2015-12-10 17:40:00</td>\n",
       "      <td>NEW HANOVER</td>\n",
       "      <td>REINDEER CT &amp; DEAD END</td>\n",
       "      <td>1</td>\n",
       "    </tr>\n",
       "    <tr>\n",
       "      <th>1</th>\n",
       "      <td>40.258061</td>\n",
       "      <td>-75.264680</td>\n",
       "      <td>BRIAR PATH &amp; WHITEMARSH LN;  HATFIELD TOWNSHIP...</td>\n",
       "      <td>19446.0</td>\n",
       "      <td>EMS: DIABETIC EMERGENCY</td>\n",
       "      <td>2015-12-10 17:40:00</td>\n",
       "      <td>HATFIELD TOWNSHIP</td>\n",
       "      <td>BRIAR PATH &amp; WHITEMARSH LN</td>\n",
       "      <td>1</td>\n",
       "    </tr>\n",
       "    <tr>\n",
       "      <th>2</th>\n",
       "      <td>40.121182</td>\n",
       "      <td>-75.351975</td>\n",
       "      <td>HAWS AVE; NORRISTOWN; 2015-12-10 @ 14:39:21-St...</td>\n",
       "      <td>19401.0</td>\n",
       "      <td>Fire: GAS-ODOR/LEAK</td>\n",
       "      <td>2015-12-10 17:40:00</td>\n",
       "      <td>NORRISTOWN</td>\n",
       "      <td>HAWS AVE</td>\n",
       "      <td>1</td>\n",
       "    </tr>\n",
       "    <tr>\n",
       "      <th>3</th>\n",
       "      <td>40.116153</td>\n",
       "      <td>-75.343513</td>\n",
       "      <td>AIRY ST &amp; SWEDE ST;  NORRISTOWN; Station 308A;...</td>\n",
       "      <td>19401.0</td>\n",
       "      <td>EMS: CARDIAC EMERGENCY</td>\n",
       "      <td>2015-12-10 17:40:01</td>\n",
       "      <td>NORRISTOWN</td>\n",
       "      <td>AIRY ST &amp; SWEDE ST</td>\n",
       "      <td>1</td>\n",
       "    </tr>\n",
       "    <tr>\n",
       "      <th>4</th>\n",
       "      <td>40.251492</td>\n",
       "      <td>-75.603350</td>\n",
       "      <td>CHERRYWOOD CT &amp; DEAD END;  LOWER POTTSGROVE; S...</td>\n",
       "      <td>NaN</td>\n",
       "      <td>EMS: DIZZINESS</td>\n",
       "      <td>2015-12-10 17:40:01</td>\n",
       "      <td>LOWER POTTSGROVE</td>\n",
       "      <td>CHERRYWOOD CT &amp; DEAD END</td>\n",
       "      <td>1</td>\n",
       "    </tr>\n",
       "  </tbody>\n",
       "</table>\n",
       "</div>"
      ],
      "text/plain": [
       "         lat        lng                                               desc  \\\n",
       "0  40.297876 -75.581294  REINDEER CT & DEAD END;  NEW HANOVER; Station ...   \n",
       "1  40.258061 -75.264680  BRIAR PATH & WHITEMARSH LN;  HATFIELD TOWNSHIP...   \n",
       "2  40.121182 -75.351975  HAWS AVE; NORRISTOWN; 2015-12-10 @ 14:39:21-St...   \n",
       "3  40.116153 -75.343513  AIRY ST & SWEDE ST;  NORRISTOWN; Station 308A;...   \n",
       "4  40.251492 -75.603350  CHERRYWOOD CT & DEAD END;  LOWER POTTSGROVE; S...   \n",
       "\n",
       "       zip                    title            timeStamp                twp  \\\n",
       "0  19525.0   EMS: BACK PAINS/INJURY  2015-12-10 17:40:00        NEW HANOVER   \n",
       "1  19446.0  EMS: DIABETIC EMERGENCY  2015-12-10 17:40:00  HATFIELD TOWNSHIP   \n",
       "2  19401.0      Fire: GAS-ODOR/LEAK  2015-12-10 17:40:00         NORRISTOWN   \n",
       "3  19401.0   EMS: CARDIAC EMERGENCY  2015-12-10 17:40:01         NORRISTOWN   \n",
       "4      NaN           EMS: DIZZINESS  2015-12-10 17:40:01   LOWER POTTSGROVE   \n",
       "\n",
       "                         addr  e  \n",
       "0      REINDEER CT & DEAD END  1  \n",
       "1  BRIAR PATH & WHITEMARSH LN  1  \n",
       "2                    HAWS AVE  1  \n",
       "3          AIRY ST & SWEDE ST  1  \n",
       "4    CHERRYWOOD CT & DEAD END  1  "
      ]
     },
     "execution_count": 28,
     "metadata": {},
     "output_type": "execute_result"
    }
   ],
   "source": [
    "df.head()"
   ]
  },
  {
   "cell_type": "code",
   "execution_count": 29,
   "metadata": {
    "collapsed": false,
    "nbpresent": {
     "id": "f2e6e1f3-ebba-40bb-b017-fb7f79e902fd"
    }
   },
   "outputs": [
    {
     "name": "stdout",
     "output_type": "stream",
     "text": [
      "<class 'pandas.core.frame.DataFrame'>\n",
      "RangeIndex: 99492 entries, 0 to 99491\n",
      "Data columns (total 9 columns):\n",
      "lat          99492 non-null float64\n",
      "lng          99492 non-null float64\n",
      "desc         99492 non-null object\n",
      "zip          86637 non-null float64\n",
      "title        99492 non-null object\n",
      "timeStamp    99492 non-null object\n",
      "twp          99449 non-null object\n",
      "addr         98973 non-null object\n",
      "e            99492 non-null int64\n",
      "dtypes: float64(3), int64(1), object(5)\n",
      "memory usage: 6.8+ MB\n"
     ]
    }
   ],
   "source": [
    "df.info()"
   ]
  },
  {
   "cell_type": "code",
   "execution_count": 30,
   "metadata": {
    "collapsed": false,
    "nbpresent": {
     "id": "d6612628-5e44-4501-abcc-0209c0961e4b"
    }
   },
   "outputs": [
    {
     "data": {
      "text/plain": [
       "19401.0    6979\n",
       "19464.0    6643\n",
       "19403.0    4854\n",
       "19446.0    4748\n",
       "19406.0    3174\n",
       "Name: zip, dtype: int64"
      ]
     },
     "execution_count": 30,
     "metadata": {},
     "output_type": "execute_result"
    }
   ],
   "source": [
    "#what are the top zip codes for calling 911?\n",
    "df['zip'].value_counts().head(5)\n"
   ]
  },
  {
   "cell_type": "markdown",
   "metadata": {
    "nbpresent": {
     "id": "ee230dd4-d964-438a-80a6-be97553bf4ab"
    }
   },
   "source": [
    "How many reasons people call 911 for?"
   ]
  },
  {
   "cell_type": "code",
   "execution_count": 31,
   "metadata": {
    "collapsed": false,
    "nbpresent": {
     "id": "7a385bd6-81d4-49ee-8d4e-64520b8754ae"
    }
   },
   "outputs": [
    {
     "data": {
      "text/plain": [
       "110"
      ]
     },
     "execution_count": 31,
     "metadata": {},
     "output_type": "execute_result"
    }
   ],
   "source": [
    "df['title'].nunique()"
   ]
  },
  {
   "cell_type": "markdown",
   "metadata": {
    "nbpresent": {
     "id": "c9a4dfed-d092-4019-97a8-3f2119e72336"
    }
   },
   "source": [
    "The most reason to call 911"
   ]
  },
  {
   "cell_type": "code",
   "execution_count": 32,
   "metadata": {
    "collapsed": false,
    "nbpresent": {
     "id": "f7d7ae04-b810-41e3-b162-76b7cb83de12"
    }
   },
   "outputs": [
    {
     "data": {
      "text/plain": [
       "EMS        48877\n",
       "Traffic    35695\n",
       "Fire       14920\n",
       "Name: Reason, dtype: int64"
      ]
     },
     "execution_count": 32,
     "metadata": {},
     "output_type": "execute_result"
    }
   ],
   "source": [
    "df['Reason']=df['title'].apply(lambda t:t.split(\":\")[0])\n",
    "#df['Reason'].nunique()\n",
    "df['Reason'].value_counts()\n"
   ]
  },
  {
   "cell_type": "code",
   "execution_count": 33,
   "metadata": {
    "collapsed": false,
    "nbpresent": {
     "id": "4ef6825a-828f-421b-a7e2-5e8a219ba0cf"
    },
    "scrolled": true
   },
   "outputs": [
    {
     "data": {
      "text/plain": [
       "<matplotlib.axes._subplots.AxesSubplot at 0x7f4462e31a20>"
      ]
     },
     "execution_count": 33,
     "metadata": {},
     "output_type": "execute_result"
    },
    {
     "data": {
      "image/png": "[encoded data removed]",
      "text/plain": [
       "<matplotlib.figure.Figure at 0x7f446334b668>"
      ]
     },
     "metadata": {},
     "output_type": "display_data"
    }
   ],
   "source": [
    "sns.countplot(x=df['Reason'], data=df)"
   ]
  },
  {
   "cell_type": "code",
   "execution_count": 34,
   "metadata": {
    "collapsed": false,
    "nbpresent": {
     "id": "05de088f-cf2d-43fd-a706-91e74c0b91f2"
    }
   },
   "outputs": [],
   "source": [
    "#relation between reason and month, day\n",
    "\n",
    "df['timeStamp']=pd.to_datetime(df['timeStamp'])\n",
    "df['year']=df['timeStamp'].apply(lambda time:time.year)\n",
    "df['dayOfWeek']=df['timeStamp'].apply(lambda time:time.dayofweek)\n",
    "df['month']=df['timeStamp'].apply(lambda time:time.month)\n",
    "df['hour']=df['timeStamp'].apply(lambda time:time.hour)\n",
    "df['minute']=df['timeStamp'].apply(lambda time:time.minute)\n",
    "df['second']=df['timeStamp'].apply(lambda time:time.second)\n"
   ]
  },
  {
   "cell_type": "code",
   "execution_count": 35,
   "metadata": {
    "collapsed": false,
    "nbpresent": {
     "id": "322efdd8-6eba-46f9-85ec-514b553668ea"
    }
   },
   "outputs": [
    {
     "data": {
      "text/plain": [
       "0    3\n",
       "1    3\n",
       "2    3\n",
       "3    3\n",
       "4    3\n",
       "Name: dayOfWeek, dtype: int64"
      ]
     },
     "execution_count": 35,
     "metadata": {},
     "output_type": "execute_result"
    }
   ],
   "source": [
    "df['dayOfWeek'].head()"
   ]
  },
  {
   "cell_type": "code",
   "execution_count": 36,
   "metadata": {
    "collapsed": true,
    "nbpresent": {
     "id": "d4e4fe18-19e1-4280-b1cb-f7861fca2ea9"
    }
   },
   "outputs": [],
   "source": [
    "dmap={0:\"Mon\", 1:\"Tue\", 2:\"wed\", 3:\"Thu\",4:'Fri',5:'sat',6:\"Sun\"}"
   ]
  },
  {
   "cell_type": "code",
   "execution_count": 37,
   "metadata": {
    "collapsed": false,
    "nbpresent": {
     "id": "d90d0831-8baa-4dfb-81e3-4ad7e4567425"
    }
   },
   "outputs": [],
   "source": [
    "df['dayOfWeek']=df['dayOfWeek'].map(dmap)\n"
   ]
  },
  {
   "cell_type": "code",
   "execution_count": 38,
   "metadata": {
    "collapsed": false,
    "nbpresent": {
     "id": "6c0ba9bd-14ed-421b-9d80-4771b56dcfc2"
    }
   },
   "outputs": [
    {
     "data": {
      "text/plain": [
       "<matplotlib.legend.Legend at 0x7f4462e319b0>"
      ]
     },
     "execution_count": 38,
     "metadata": {},
     "output_type": "execute_result"
    },
    {
     "data": {
      "image/png": "[encoded data removed]",
      "text/plain": [
       "<matplotlib.figure.Figure at 0x7f4462e38860>"
      ]
     },
     "metadata": {},
     "output_type": "display_data"
    }
   ],
   "source": [
    "sns.countplot(x=df['dayOfWeek'],hue=df[\"Reason\"],data=df)\n",
    "plt.legend( bbox_to_anchor=(1.05, 1),loc=2, borderaxespad=0.)\n"
   ]
  },
  {
   "cell_type": "code",
   "execution_count": 39,
   "metadata": {
    "collapsed": false,
    "nbpresent": {
     "id": "84e320d1-3b57-4c69-bfcc-b526f6bb9239"
    }
   },
   "outputs": [
    {
     "data": {
      "text/plain": [
       "Tue    15150\n",
       "wed    14879\n",
       "Fri    14833\n",
       "Mon    14680\n",
       "Thu    14478\n",
       "sat    13336\n",
       "Sun    12136\n",
       "Name: dayOfWeek, dtype: int64"
      ]
     },
     "execution_count": 39,
     "metadata": {},
     "output_type": "execute_result"
    }
   ],
   "source": [
    "#The most busy day of the week\n",
    "df[\"dayOfWeek\"].value_counts()"
   ]
  },
  {
   "cell_type": "code",
   "execution_count": 40,
   "metadata": {
    "collapsed": false,
    "nbpresent": {
     "id": "0d3dc54c-a2e0-4f19-8fe9-e2b74ba3b566"
    }
   },
   "outputs": [
    {
     "data": {
      "text/plain": [
       "<matplotlib.legend.Legend at 0x7f446888e4e0>"
      ]
     },
     "execution_count": 40,
     "metadata": {},
     "output_type": "execute_result"
    },
    {
     "data": {
      "image/png": "[encoded data removed]",
      "text/plain": [
       "<matplotlib.figure.Figure at 0x7f44690bdb00>"
      ]
     },
     "metadata": {},
     "output_type": "display_data"
    }
   ],
   "source": [
    "#the most busy month\n",
    "df['month'].value_counts()\n",
    "sns.countplot(x=df[\"month\"], hue=df[\"Reason\"])\n",
    "plt.legend(bbox_to_anchor=(1.05, 1),loc=2, borderaxespad=0.)"
   ]
  },
  {
   "cell_type": "markdown",
   "metadata": {
    "nbpresent": {
     "id": "16676317-f41a-4de2-a1cb-70d5896f4c05"
    }
   },
   "source": [
    "Since we have some months missing we will need another graph with continuous lines instead of discrete illustration in the previous graphs"
   ]
  },
  {
   "cell_type": "code",
   "execution_count": 41,
   "metadata": {
    "collapsed": false,
    "nbpresent": {
     "id": "619c919f-15f7-4bcf-b23a-8139b8821c52"
    }
   },
   "outputs": [],
   "source": [
    "byMonth=df.groupby(\"month\").count()\n",
    "\n"
   ]
  },
  {
   "cell_type": "code",
   "execution_count": 42,
   "metadata": {
    "collapsed": false,
    "nbpresent": {
     "id": "f99943b2-4171-4067-9c94-9e02112cf7d8"
    }
   },
   "outputs": [
    {
     "data": {
      "text/plain": [
       "<matplotlib.axes._subplots.AxesSubplot at 0x7f44690eb080>"
      ]
     },
     "execution_count": 42,
     "metadata": {},
     "output_type": "execute_result"
    },
    {
     "data": {
      "image/png": "[encoded data removed]",
      "text/plain": [
       "<matplotlib.figure.Figure at 0x7f446334b278>"
      ]
     },
     "metadata": {},
     "output_type": "display_data"
    }
   ],
   "source": [
    "byMonth[\"twp\"].plot()\n"
   ]
  },
  {
   "cell_type": "code",
   "execution_count": 43,
   "metadata": {
    "collapsed": false,
    "nbpresent": {
     "id": "7ecc155a-7f8b-4f39-bf12-a99fb966c1d3"
    }
   },
   "outputs": [
    {
     "data": {
      "text/plain": [
       "<seaborn.axisgrid.FacetGrid at 0x7f4468fcba58>"
      ]
     },
     "execution_count": 43,
     "metadata": {},
     "output_type": "execute_result"
    },
    {
     "data": {
      "image/png": "[encoded data removed]",
      "text/plain": [
       "<matplotlib.figure.Figure at 0x7f4468fcb828>"
      ]
     },
     "metadata": {},
     "output_type": "display_data"
    }
   ],
   "source": [
    "sns.lmplot(x=\"month\", y=\"twp\",data=byMonth.reset_index())"
   ]
  },
  {
   "cell_type": "code",
   "execution_count": 44,
   "metadata": {
    "collapsed": false,
    "nbpresent": {
     "id": "d5c08515-a118-4887-b14f-b36554b54148"
    }
   },
   "outputs": [
    {
     "data": {
      "text/plain": [
       "0    2015-12-10\n",
       "1    2015-12-10\n",
       "2    2015-12-10\n",
       "3    2015-12-10\n",
       "4    2015-12-10\n",
       "Name: Date, dtype: object"
      ]
     },
     "execution_count": 44,
     "metadata": {},
     "output_type": "execute_result"
    }
   ],
   "source": [
    "df[\"Date\"]=df[\"timeStamp\"].apply(lambda t:t.date())\n",
    "df[\"Date\"].head()"
   ]
  },
  {
   "cell_type": "code",
   "execution_count": 45,
   "metadata": {
    "collapsed": false,
    "nbpresent": {
     "id": "801198b0-b2a7-4bfd-8199-6a894a765e48"
    }
   },
   "outputs": [
    {
     "data": {
      "image/png": "[encoded data removed]",
      "text/plain": [
       "<matplotlib.figure.Figure at 0x7f4468f72748>"
      ]
     },
     "metadata": {},
     "output_type": "display_data"
    }
   ],
   "source": [
    "df.groupby(\"Date\").count()[\"twp\"].plot()\n",
    "plt.tight_layout()"
   ]
  },
  {
   "cell_type": "code",
   "execution_count": 46,
   "metadata": {
    "collapsed": false,
    "nbpresent": {
     "id": "74e9e5ba-6cb0-4999-9e44-88621fd178d7"
    }
   },
   "outputs": [
    {
     "data": {
      "text/plain": [
       "<matplotlib.text.Text at 0x7f4462b73a20>"
      ]
     },
     "execution_count": 46,
     "metadata": {},
     "output_type": "execute_result"
    },
    {
     "data": {
      "image/png": "[encoded data removed]",
      "text/plain": [
       "<matplotlib.figure.Figure at 0x7f4463fda8d0>"
      ]
     },
     "metadata": {},
     "output_type": "display_data"
    }
   ],
   "source": [
    "df[df[\"Reason\"]==\"Traffic\" ].groupby(\"Date\") .count() [\"twp\"].plot()\n",
    "plt.tight_layout()\n",
    "plt.title(\"Traffic\")"
   ]
  },
  {
   "cell_type": "code",
   "execution_count": 47,
   "metadata": {
    "collapsed": false,
    "nbpresent": {
     "id": "5a8d5402-404c-483e-afd2-46d7b3d4f9e0"
    }
   },
   "outputs": [
    {
     "data": {
      "text/html": [
       "<div>\n",
       "<table border=\"1\" class=\"dataframe\">\n",
       "  <thead>\n",
       "    <tr style=\"text-align: right;\">\n",
       "      <th>hour</th>\n",
       "      <th>0</th>\n",
       "      <th>1</th>\n",
       "      <th>2</th>\n",
       "      <th>3</th>\n",
       "      <th>4</th>\n",
       "      <th>5</th>\n",
       "      <th>6</th>\n",
       "      <th>7</th>\n",
       "      <th>8</th>\n",
       "      <th>9</th>\n",
       "      <th>...</th>\n",
       "      <th>14</th>\n",
       "      <th>15</th>\n",
       "      <th>16</th>\n",
       "      <th>17</th>\n",
       "      <th>18</th>\n",
       "      <th>19</th>\n",
       "      <th>20</th>\n",
       "      <th>21</th>\n",
       "      <th>22</th>\n",
       "      <th>23</th>\n",
       "    </tr>\n",
       "    <tr>\n",
       "      <th>dayOfWeek</th>\n",
       "      <th></th>\n",
       "      <th></th>\n",
       "      <th></th>\n",
       "      <th></th>\n",
       "      <th></th>\n",
       "      <th></th>\n",
       "      <th></th>\n",
       "      <th></th>\n",
       "      <th></th>\n",
       "      <th></th>\n",
       "      <th></th>\n",
       "      <th></th>\n",
       "      <th></th>\n",
       "      <th></th>\n",
       "      <th></th>\n",
       "      <th></th>\n",
       "      <th></th>\n",
       "      <th></th>\n",
       "      <th></th>\n",
       "      <th></th>\n",
       "      <th></th>\n",
       "    </tr>\n",
       "  </thead>\n",
       "  <tbody>\n",
       "    <tr>\n",
       "      <th>Fri</th>\n",
       "      <td>275</td>\n",
       "      <td>235</td>\n",
       "      <td>191</td>\n",
       "      <td>175</td>\n",
       "      <td>201</td>\n",
       "      <td>194</td>\n",
       "      <td>372</td>\n",
       "      <td>598</td>\n",
       "      <td>742</td>\n",
       "      <td>752</td>\n",
       "      <td>...</td>\n",
       "      <td>932</td>\n",
       "      <td>980</td>\n",
       "      <td>1039</td>\n",
       "      <td>980</td>\n",
       "      <td>820</td>\n",
       "      <td>696</td>\n",
       "      <td>667</td>\n",
       "      <td>559</td>\n",
       "      <td>514</td>\n",
       "      <td>474</td>\n",
       "    </tr>\n",
       "    <tr>\n",
       "      <th>Mon</th>\n",
       "      <td>282</td>\n",
       "      <td>221</td>\n",
       "      <td>201</td>\n",
       "      <td>194</td>\n",
       "      <td>204</td>\n",
       "      <td>267</td>\n",
       "      <td>397</td>\n",
       "      <td>653</td>\n",
       "      <td>819</td>\n",
       "      <td>786</td>\n",
       "      <td>...</td>\n",
       "      <td>869</td>\n",
       "      <td>913</td>\n",
       "      <td>989</td>\n",
       "      <td>997</td>\n",
       "      <td>885</td>\n",
       "      <td>746</td>\n",
       "      <td>613</td>\n",
       "      <td>497</td>\n",
       "      <td>472</td>\n",
       "      <td>325</td>\n",
       "    </tr>\n",
       "    <tr>\n",
       "      <th>Sun</th>\n",
       "      <td>383</td>\n",
       "      <td>306</td>\n",
       "      <td>286</td>\n",
       "      <td>268</td>\n",
       "      <td>242</td>\n",
       "      <td>240</td>\n",
       "      <td>300</td>\n",
       "      <td>402</td>\n",
       "      <td>483</td>\n",
       "      <td>620</td>\n",
       "      <td>...</td>\n",
       "      <td>684</td>\n",
       "      <td>691</td>\n",
       "      <td>663</td>\n",
       "      <td>714</td>\n",
       "      <td>670</td>\n",
       "      <td>655</td>\n",
       "      <td>537</td>\n",
       "      <td>461</td>\n",
       "      <td>415</td>\n",
       "      <td>330</td>\n",
       "    </tr>\n",
       "    <tr>\n",
       "      <th>Thu</th>\n",
       "      <td>278</td>\n",
       "      <td>202</td>\n",
       "      <td>233</td>\n",
       "      <td>159</td>\n",
       "      <td>182</td>\n",
       "      <td>203</td>\n",
       "      <td>362</td>\n",
       "      <td>570</td>\n",
       "      <td>777</td>\n",
       "      <td>828</td>\n",
       "      <td>...</td>\n",
       "      <td>876</td>\n",
       "      <td>969</td>\n",
       "      <td>935</td>\n",
       "      <td>1013</td>\n",
       "      <td>810</td>\n",
       "      <td>698</td>\n",
       "      <td>617</td>\n",
       "      <td>553</td>\n",
       "      <td>424</td>\n",
       "      <td>354</td>\n",
       "    </tr>\n",
       "    <tr>\n",
       "      <th>Tue</th>\n",
       "      <td>269</td>\n",
       "      <td>240</td>\n",
       "      <td>186</td>\n",
       "      <td>170</td>\n",
       "      <td>209</td>\n",
       "      <td>239</td>\n",
       "      <td>415</td>\n",
       "      <td>655</td>\n",
       "      <td>889</td>\n",
       "      <td>880</td>\n",
       "      <td>...</td>\n",
       "      <td>943</td>\n",
       "      <td>938</td>\n",
       "      <td>1026</td>\n",
       "      <td>1019</td>\n",
       "      <td>905</td>\n",
       "      <td>731</td>\n",
       "      <td>647</td>\n",
       "      <td>571</td>\n",
       "      <td>462</td>\n",
       "      <td>274</td>\n",
       "    </tr>\n",
       "  </tbody>\n",
       "</table>\n",
       "<p>5 rows × 24 columns</p>\n",
       "</div>"
      ],
      "text/plain": [
       "hour        0    1    2    3    4    5    6    7    8    9  ...    14   15  \\\n",
       "dayOfWeek                                                   ...              \n",
       "Fri        275  235  191  175  201  194  372  598  742  752 ...   932  980   \n",
       "Mon        282  221  201  194  204  267  397  653  819  786 ...   869  913   \n",
       "Sun        383  306  286  268  242  240  300  402  483  620 ...   684  691   \n",
       "Thu        278  202  233  159  182  203  362  570  777  828 ...   876  969   \n",
       "Tue        269  240  186  170  209  239  415  655  889  880 ...   943  938   \n",
       "\n",
       "hour         16    17   18   19   20   21   22   23  \n",
       "dayOfWeek                                            \n",
       "Fri        1039   980  820  696  667  559  514  474  \n",
       "Mon         989   997  885  746  613  497  472  325  \n",
       "Sun         663   714  670  655  537  461  415  330  \n",
       "Thu         935  1013  810  698  617  553  424  354  \n",
       "Tue        1026  1019  905  731  647  571  462  274  \n",
       "\n",
       "[5 rows x 24 columns]"
      ]
     },
     "execution_count": 47,
     "metadata": {},
     "output_type": "execute_result"
    }
   ],
   "source": [
    "hourofday=df.groupby(by=[\"dayOfWeek\",\"hour\"]).count()[\"Reason\"].unstack()\n",
    "hourofday.head()"
   ]
  },
  {
   "cell_type": "code",
   "execution_count": 48,
   "metadata": {
    "collapsed": false,
    "nbpresent": {
     "id": "a0608d54-b030-491a-8332-87d95428a308"
    }
   },
   "outputs": [
    {
     "data": {
      "text/plain": [
       "<matplotlib.axes._subplots.AxesSubplot at 0x7f4468efa160>"
      ]
     },
     "execution_count": 48,
     "metadata": {},
     "output_type": "execute_result"
    },
    {
     "data": {
      "image/png": "[encoded data removed]",
      "text/plain": [
       "<matplotlib.figure.Figure at 0x7f4468ef2048>"
      ]
     },
     "metadata": {},
     "output_type": "display_data"
    }
   ],
   "source": [
    "plt.figure(figsize=(12,10))\n",
    "sns.heatmap(hourofday)"
   ]
  },
  {
   "cell_type": "code",
   "execution_count": 49,
   "metadata": {
    "collapsed": false,
    "nbpresent": {
     "id": "76fad717-095f-419f-878b-ade5bdf8bf01"
    }
   },
   "outputs": [
    {
     "data": {
      "text/plain": [
       "<seaborn.matrix.ClusterGrid at 0x7f4468e51128>"
      ]
     },
     "execution_count": 49,
     "metadata": {},
     "output_type": "execute_result"
    },
    {
     "data": {
      "image/png": "[encoded data removed]",
      "text/plain": [
       "<matplotlib.figure.Figure at 0x7f4468e46e48>"
      ]
     },
     "metadata": {},
     "output_type": "display_data"
    }
   ],
   "source": [
    "sns.clustermap(hourofday)"
   ]
  },
  {
   "cell_type": "code",
   "execution_count": 50,
   "metadata": {
    "collapsed": false,
    "nbpresent": {
     "id": "4a87fea2-5387-400a-b69e-b6f0c17c2c22"
    }
   },
   "outputs": [
    {
     "data": {
      "text/plain": [
       "<matplotlib.axes._subplots.AxesSubplot at 0x7f4468cc55f8>"
      ]
     },
     "execution_count": 50,
     "metadata": {},
     "output_type": "execute_result"
    },
    {
     "data": {
      "image/png": "[encoded data removed]",
      "text/plain": [
       "<matplotlib.figure.Figure at 0x7f44685d6ac8>"
      ]
     },
     "metadata": {},
     "output_type": "display_data"
    }
   ],
   "source": [
    "dayMonth = df.groupby(by=['dayOfWeek','month']).count()['Reason'].unstack()\n",
    "plt.figure(figsize=(12,10))\n",
    "sns.heatmap(dayMonth)"
   ]
  },
  {
   "cell_type": "code",
   "execution_count": null,
   "metadata": {
    "collapsed": true,
    "nbpresent": {
     "id": "cc3d3045-da60-4695-9921-5206ad98f05f"
    }
   },
   "outputs": [],
   "source": []
  }
 ],
 "metadata": {
  "anaconda-cloud": {},
  "kernelspec": {
   "display_name": "Python [Root]",
   "language": "python",
   "name": "Python [Root]"
  },
  "language_info": {
   "codemirror_mode": {
    "name": "ipython",
    "version": 3
   },
   "file_extension": ".py",
   "mimetype": "text/x-python",
   "name": "python",
   "nbconvert_exporter": "python",
   "pygments_lexer": "ipython3",
   "version": "3.5.2"
  },
  "nbpresent": {
   "slides": {
    "02a3011f-1170-4bed-918e-83d18c610612": {
     "id": "02a3011f-1170-4bed-918e-83d18c610612",
     "prev": "7994be9f-c78b-4ceb-892c-0060ab7ff399",
     "regions": {
      "209fa61e-010c-4df0-b817-ae2d44c2a60e": {
       "attrs": {
        "height": 0.8,
        "width": 0.8,
        "x": 0.1,
        "y": 0.1
       },
       "content": {
        "cell": "322efdd8-6eba-46f9-85ec-514b553668ea",
        "part": "whole"
       },
       "id": "209fa61e-010c-4df0-b817-ae2d44c2a60e"
      }
     }
    },
    "0ccb7603-f23e-4a1a-b04d-06ea14948ded": {
     "id": "0ccb7603-f23e-4a1a-b04d-06ea14948ded",
     "prev": "8f411bcf-5e1c-4a9e-b263-4c597adf9e5a",
     "regions": {
      "729d943b-2db0-4d51-955e-8b31f0204257": {
       "attrs": {
        "height": 0.8,
        "width": 0.8,
        "x": 0.1,
        "y": 0.1
       },
       "content": {
        "cell": "e121eb0b-123b-41d8-ac20-e6585e3ea04c",
        "part": "whole"
       },
       "id": "729d943b-2db0-4d51-955e-8b31f0204257"
      }
     }
    },
    "1a85cd7f-034f-4d97-851c-215c8b34d9de": {
     "id": "1a85cd7f-034f-4d97-851c-215c8b34d9de",
     "prev": "cf708cc9-7f69-46e9-8ff2-e8684a81ddda",
     "regions": {
      "72bbc014-4b8f-4378-9fd2-8ae69ce8ef67": {
       "attrs": {
        "height": 0.8,
        "width": 0.8,
        "x": 0.1,
        "y": 0.1
       },
       "content": {
        "cell": "0d3dc54c-a2e0-4f19-8fe9-e2b74ba3b566",
        "part": "whole"
       },
       "id": "72bbc014-4b8f-4378-9fd2-8ae69ce8ef67"
      }
     }
    },
    "1ae7a5af-5d0b-41d6-b6d9-9c5ca12e8780": {
     "id": "1ae7a5af-5d0b-41d6-b6d9-9c5ca12e8780",
     "prev": "3ad6c096-3066-40ac-ab1e-539efdcb5cbf",
     "regions": {
      "927fffd1-382b-48ef-b76e-57a7e6d008a3": {
       "attrs": {
        "height": 0.8,
        "width": 0.8,
        "x": 0.1,
        "y": 0.1
       },
       "content": {
        "cell": "801198b0-b2a7-4bfd-8199-6a894a765e48",
        "part": "whole"
       },
       "id": "927fffd1-382b-48ef-b76e-57a7e6d008a3"
      }
     }
    },
    "22820565-a375-43d6-9793-2d48cb806089": {
     "id": "22820565-a375-43d6-9793-2d48cb806089",
     "prev": "4d979f33-af12-4f2f-9054-943b713ffc0b",
     "regions": {
      "35f4d590-f304-4247-a5e1-db99afc2c56a": {
       "attrs": {
        "height": 0.8,
        "width": 0.8,
        "x": 0.1,
        "y": 0.1
       },
       "content": {
        "cell": "a0608d54-b030-491a-8332-87d95428a308",
        "part": "whole"
       },
       "id": "35f4d590-f304-4247-a5e1-db99afc2c56a"
      }
     }
    },
    "287ebd5d-b1ec-4167-9083-964861a48a2d": {
     "id": "287ebd5d-b1ec-4167-9083-964861a48a2d",
     "prev": "22820565-a375-43d6-9793-2d48cb806089",
     "regions": {
      "356b075d-bae1-4ad3-885b-32e7df482ab8": {
       "attrs": {
        "height": 0.8,
        "width": 0.8,
        "x": 0.1,
        "y": 0.1
       },
       "content": {
        "cell": "76fad717-095f-419f-878b-ade5bdf8bf01",
        "part": "whole"
       },
       "id": "356b075d-bae1-4ad3-885b-32e7df482ab8"
      }
     }
    },
    "34c462c7-24e0-44ff-ac35-f59cd5789ecc": {
     "id": "34c462c7-24e0-44ff-ac35-f59cd5789ecc",
     "prev": "7021c309-dfbb-4c4d-abb1-1a9ebbaccfd0",
     "regions": {
      "a88e2477-419e-498f-acfe-7b2781f0d029": {
       "attrs": {
        "height": 0.8,
        "width": 0.8,
        "x": 0.1,
        "y": 0.1
       },
       "content": {
        "cell": "7ecc155a-7f8b-4f39-bf12-a99fb966c1d3",
        "part": "whole"
       },
       "id": "a88e2477-419e-498f-acfe-7b2781f0d029"
      }
     }
    },
    "3861fa8e-8318-449f-9979-4ccc5c7a0777": {
     "id": "3861fa8e-8318-449f-9979-4ccc5c7a0777",
     "prev": "e9f80671-4bd4-4bc0-aad4-8e3534b80dab",
     "regions": {
      "c07e6a51-e97f-4b8d-a639-036936b9860d": {
       "attrs": {
        "height": 0.8,
        "width": 0.8,
        "x": 0.1,
        "y": 0.1
       },
       "content": {
        "cell": "f7d7ae04-b810-41e3-b162-76b7cb83de12",
        "part": "whole"
       },
       "id": "c07e6a51-e97f-4b8d-a639-036936b9860d"
      }
     }
    },
    "3ad6c096-3066-40ac-ab1e-539efdcb5cbf": {
     "id": "3ad6c096-3066-40ac-ab1e-539efdcb5cbf",
     "prev": "34c462c7-24e0-44ff-ac35-f59cd5789ecc",
     "regions": {
      "7f187988-7019-4e76-b691-ada2ac1e47a6": {
       "attrs": {
        "height": 0.8,
        "width": 0.8,
        "x": 0.1,
        "y": 0.1
       },
       "content": {
        "cell": "d5c08515-a118-4887-b14f-b36554b54148",
        "part": "whole"
       },
       "id": "7f187988-7019-4e76-b691-ada2ac1e47a6"
      }
     }
    },
    "3ba0b3ef-c7bd-4361-b405-bc66473373d0": {
     "id": "3ba0b3ef-c7bd-4361-b405-bc66473373d0",
     "prev": "1ae7a5af-5d0b-41d6-b6d9-9c5ca12e8780",
     "regions": {
      "09dcc212-29f8-4984-886d-dad273ae1d0e": {
       "attrs": {
        "height": 0.8,
        "width": 0.8,
        "x": 0.1,
        "y": 0.1
       },
       "content": {
        "cell": "74e9e5ba-6cb0-4999-9e44-88621fd178d7",
        "part": "whole"
       },
       "id": "09dcc212-29f8-4984-886d-dad273ae1d0e"
      }
     }
    },
    "3d036cbd-9db6-4792-a872-fe6fe43fa5af": {
     "id": "3d036cbd-9db6-4792-a872-fe6fe43fa5af",
     "prev": "3861fa8e-8318-449f-9979-4ccc5c7a0777",
     "regions": {
      "4a4efda7-d374-4f5f-8571-40a97e56d104": {
       "attrs": {
        "height": 0.8,
        "width": 0.8,
        "x": 0.1,
        "y": 0.1
       },
       "content": {
        "cell": "4ef6825a-828f-421b-a7e2-5e8a219ba0cf",
        "part": "whole"
       },
       "id": "4a4efda7-d374-4f5f-8571-40a97e56d104"
      }
     }
    },
    "4d979f33-af12-4f2f-9054-943b713ffc0b": {
     "id": "4d979f33-af12-4f2f-9054-943b713ffc0b",
     "prev": "3ba0b3ef-c7bd-4361-b405-bc66473373d0",
     "regions": {
      "5ba8510e-41a3-4cce-ac47-c36b8684bdf4": {
       "attrs": {
        "height": 0.8,
        "width": 0.8,
        "x": 0.1,
        "y": 0.1
       },
       "content": {
        "cell": "5a8d5402-404c-483e-afd2-46d7b3d4f9e0",
        "part": "whole"
       },
       "id": "5ba8510e-41a3-4cce-ac47-c36b8684bdf4"
      }
     }
    },
    "5213303e-04e9-4e47-b523-4b2d5f7e28c8": {
     "id": "5213303e-04e9-4e47-b523-4b2d5f7e28c8",
     "prev": "e2387ceb-d1b2-449b-ac0a-7f3ce9dcf26d",
     "regions": {
      "252d142e-8cab-4cc4-b221-d52945225b86": {
       "attrs": {
        "height": 0.8,
        "width": 0.8,
        "x": 0.1,
        "y": 0.1
       },
       "content": {
        "cell": "02f15382-df1e-45e7-bd06-1a4d11f15659",
        "part": "whole"
       },
       "id": "252d142e-8cab-4cc4-b221-d52945225b86"
      }
     }
    },
    "528a3303-d7f2-418e-9f76-0eb93b5f8aed": {
     "id": "528a3303-d7f2-418e-9f76-0eb93b5f8aed",
     "prev": "c4a6fd58-596d-4c0d-b645-ea70346db587",
     "regions": {
      "6885a618-00db-4261-932d-6c73fda82058": {
       "attrs": {
        "height": 0.8,
        "width": 0.8,
        "x": 0.1,
        "y": 0.1
       },
       "content": {
        "cell": "7a385bd6-81d4-49ee-8d4e-64520b8754ae",
        "part": "whole"
       },
       "id": "6885a618-00db-4261-932d-6c73fda82058"
      }
     }
    },
    "59bc64c2-d7be-4931-a074-5ba1f8137734": {
     "id": "59bc64c2-d7be-4931-a074-5ba1f8137734",
     "prev": "83231979-032e-494a-aa24-d1fb49b9f7d8",
     "regions": {
      "fe1bbd68-d6d9-4568-a251-51f37f79cfb4": {
       "attrs": {
        "height": 0.8,
        "width": 0.8,
        "x": 0.1,
        "y": 0.1
       },
       "content": {
        "cell": "6c0ba9bd-14ed-421b-9d80-4771b56dcfc2",
        "part": "whole"
       },
       "id": "fe1bbd68-d6d9-4568-a251-51f37f79cfb4"
      }
     }
    },
    "6ca91e25-bf2a-4657-bf2c-87d99ed36cb8": {
     "id": "6ca91e25-bf2a-4657-bf2c-87d99ed36cb8",
     "prev": "1a85cd7f-034f-4d97-851c-215c8b34d9de",
     "regions": {
      "a8271768-e3bd-47fa-989e-d83bc2b62a1b": {
       "attrs": {
        "height": 0.8,
        "width": 0.8,
        "x": 0.1,
        "y": 0.1
       },
       "content": {
        "cell": "16676317-f41a-4de2-a1cb-70d5896f4c05",
        "part": "whole"
       },
       "id": "a8271768-e3bd-47fa-989e-d83bc2b62a1b"
      }
     }
    },
    "7021c309-dfbb-4c4d-abb1-1a9ebbaccfd0": {
     "id": "7021c309-dfbb-4c4d-abb1-1a9ebbaccfd0",
     "prev": "bab4ed3e-9230-4412-95b9-4c6c367b205c",
     "regions": {
      "a4379335-260e-453f-a61a-61897773977a": {
       "attrs": {
        "height": 0.8,
        "width": 0.8,
        "x": 0.1,
        "y": 0.1
       },
       "content": {
        "cell": "f99943b2-4171-4067-9c94-9e02112cf7d8",
        "part": "whole"
       },
       "id": "a4379335-260e-453f-a61a-61897773977a"
      }
     }
    },
    "7994be9f-c78b-4ceb-892c-0060ab7ff399": {
     "id": "7994be9f-c78b-4ceb-892c-0060ab7ff399",
     "prev": "3d036cbd-9db6-4792-a872-fe6fe43fa5af",
     "regions": {
      "f5176b48-9483-415e-bf6b-a3e90b04fe3b": {
       "attrs": {
        "height": 0.8,
        "width": 0.8,
        "x": 0.1,
        "y": 0.1
       },
       "content": {
        "cell": "05de088f-cf2d-43fd-a706-91e74c0b91f2",
        "part": "whole"
       },
       "id": "f5176b48-9483-415e-bf6b-a3e90b04fe3b"
      }
     }
    },
    "7dfd09e2-02e8-4a2e-9afe-d79232b80806": {
     "id": "7dfd09e2-02e8-4a2e-9afe-d79232b80806",
     "prev": "02a3011f-1170-4bed-918e-83d18c610612",
     "regions": {
      "7ed7783c-a193-4f73-a477-e4e9d7af7e8c": {
       "attrs": {
        "height": 0.8,
        "width": 0.8,
        "x": 0.1,
        "y": 0.1
       },
       "content": {
        "cell": "d4e4fe18-19e1-4280-b1cb-f7861fca2ea9",
        "part": "whole"
       },
       "id": "7ed7783c-a193-4f73-a477-e4e9d7af7e8c"
      }
     }
    },
    "83231979-032e-494a-aa24-d1fb49b9f7d8": {
     "id": "83231979-032e-494a-aa24-d1fb49b9f7d8",
     "prev": "7dfd09e2-02e8-4a2e-9afe-d79232b80806",
     "regions": {
      "d419867f-2dfb-467c-b540-73acddda2e77": {
       "attrs": {
        "height": 0.8,
        "width": 0.8,
        "x": 0.1,
        "y": 0.1
       },
       "content": {
        "cell": "d90d0831-8baa-4dfb-81e3-4ad7e4567425",
        "part": "whole"
       },
       "id": "d419867f-2dfb-467c-b540-73acddda2e77"
      }
     }
    },
    "87e45524-e52d-4e20-90d1-85517e127690": {
     "id": "87e45524-e52d-4e20-90d1-85517e127690",
     "prev": null,
     "regions": {
      "e00a18ba-55a1-40b7-a927-ff8be9f0a0aa": {
       "attrs": {
        "height": 0.8,
        "width": 0.8,
        "x": 0.1,
        "y": 0.1
       },
       "content": {
        "cell": "1f2892e5-2c0b-4cc4-bc81-fabed064df35",
        "part": "whole"
       },
       "id": "e00a18ba-55a1-40b7-a927-ff8be9f0a0aa"
      }
     }
    },
    "8f411bcf-5e1c-4a9e-b263-4c597adf9e5a": {
     "id": "8f411bcf-5e1c-4a9e-b263-4c597adf9e5a",
     "prev": "528a3303-d7f2-418e-9f76-0eb93b5f8aed",
     "regions": {
      "4fe5297a-ebd4-4c98-8821-cff2c285e05e": {
       "attrs": {
        "height": 0.8,
        "width": 0.8,
        "x": 0.13605166635796076,
        "y": 0.11319538115062616
       },
       "content": {
        "cell": "795f4a99-f562-4180-9031-29dcf9df94bb",
        "part": "whole"
       },
       "id": "4fe5297a-ebd4-4c98-8821-cff2c285e05e"
      }
     }
    },
    "bab4ed3e-9230-4412-95b9-4c6c367b205c": {
     "id": "bab4ed3e-9230-4412-95b9-4c6c367b205c",
     "prev": "6ca91e25-bf2a-4657-bf2c-87d99ed36cb8",
     "regions": {
      "e6de2017-f2a6-481d-86ee-56d9af050622": {
       "attrs": {
        "height": 0.8,
        "width": 0.8,
        "x": 0.1,
        "y": 0.1
       },
       "content": {
        "cell": "619c919f-15f7-4bcf-b23a-8139b8821c52",
        "part": "whole"
       },
       "id": "e6de2017-f2a6-481d-86ee-56d9af050622"
      }
     }
    },
    "c4a6fd58-596d-4c0d-b645-ea70346db587": {
     "id": "c4a6fd58-596d-4c0d-b645-ea70346db587",
     "prev": "ec9513bd-9c1c-44c7-864b-eb14c90b031c",
     "regions": {
      "a16e02b9-6814-4ae8-9b56-477ff52a1f24": {
       "attrs": {
        "height": 0.8,
        "width": 0.8,
        "x": 0.1,
        "y": 0.1
       },
       "content": {
        "cell": "ee230dd4-d964-438a-80a6-be97553bf4ab",
        "part": "whole"
       },
       "id": "a16e02b9-6814-4ae8-9b56-477ff52a1f24"
      }
     }
    },
    "cf708cc9-7f69-46e9-8ff2-e8684a81ddda": {
     "id": "cf708cc9-7f69-46e9-8ff2-e8684a81ddda",
     "prev": "59bc64c2-d7be-4931-a074-5ba1f8137734",
     "regions": {
      "0c9d895b-d626-486b-850c-36f9f7ecb84d": {
       "attrs": {
        "height": 0.8,
        "width": 0.8,
        "x": 0.1,
        "y": 0.1
       },
       "content": {
        "cell": "84e320d1-3b57-4c69-bfcc-b526f6bb9239",
        "part": "whole"
       },
       "id": "0c9d895b-d626-486b-850c-36f9f7ecb84d"
      }
     }
    },
    "ddfbb548-d615-4962-9051-9b2bb5527dd4": {
     "id": "ddfbb548-d615-4962-9051-9b2bb5527dd4",
     "prev": "287ebd5d-b1ec-4167-9083-964861a48a2d",
     "regions": {
      "9dc47cb6-1db1-4400-9d3d-d3cdde740a89": {
       "attrs": {
        "height": 0.8,
        "width": 0.8,
        "x": 0.1,
        "y": 0.1
       },
       "content": {
        "cell": "4a87fea2-5387-400a-b69e-b6f0c17c2c22",
        "part": "whole"
       },
       "id": "9dc47cb6-1db1-4400-9d3d-d3cdde740a89"
      }
     }
    },
    "e2387ceb-d1b2-449b-ac0a-7f3ce9dcf26d": {
     "id": "e2387ceb-d1b2-449b-ac0a-7f3ce9dcf26d",
     "prev": "87e45524-e52d-4e20-90d1-85517e127690",
     "regions": {
      "6b495d80-642c-433f-a627-61782d2377b2": {
       "attrs": {
        "height": 0.8,
        "width": 0.8,
        "x": 0.1,
        "y": 0.1
       },
       "content": {
        "cell": "81f1617e-7d70-453f-ac58-116c5b305b87",
        "part": "whole"
       },
       "id": "6b495d80-642c-433f-a627-61782d2377b2"
      }
     }
    },
    "e9f80671-4bd4-4bc0-aad4-8e3534b80dab": {
     "id": "e9f80671-4bd4-4bc0-aad4-8e3534b80dab",
     "prev": "0ccb7603-f23e-4a1a-b04d-06ea14948ded",
     "regions": {
      "8aca61cd-e2cb-4b31-b512-f706d31813b4": {
       "attrs": {
        "height": 0.8,
        "width": 0.8,
        "x": 0.1,
        "y": 0.1
       },
       "content": {
        "cell": "c9a4dfed-d092-4019-97a8-3f2119e72336",
        "part": "whole"
       },
       "id": "8aca61cd-e2cb-4b31-b512-f706d31813b4"
      }
     }
    },
    "ec9513bd-9c1c-44c7-864b-eb14c90b031c": {
     "id": "ec9513bd-9c1c-44c7-864b-eb14c90b031c",
     "prev": "f7a393a0-3225-4355-a942-13e81349542e",
     "regions": {
      "30340e76-50b3-4514-990f-b141422cc5ce": {
       "attrs": {
        "height": 0.8,
        "width": 0.8,
        "x": 0.1,
        "y": 0.1
       },
       "content": {
        "cell": "d6612628-5e44-4501-abcc-0209c0961e4b",
        "part": "whole"
       },
       "id": "30340e76-50b3-4514-990f-b141422cc5ce"
      }
     }
    },
    "f37479d8-e55f-4279-b764-7ead9e67b887": {
     "id": "f37479d8-e55f-4279-b764-7ead9e67b887",
     "prev": "ddfbb548-d615-4962-9051-9b2bb5527dd4",
     "regions": {
      "a2aa404e-5482-44f3-bcad-a41f9f931409": {
       "attrs": {
        "height": 0.8,
        "width": 0.8,
        "x": 0.1,
        "y": 0.1
       },
       "content": {
        "cell": "cc3d3045-da60-4695-9921-5206ad98f05f",
        "part": "whole"
       },
       "id": "a2aa404e-5482-44f3-bcad-a41f9f931409"
      }
     }
    },
    "f7a393a0-3225-4355-a942-13e81349542e": {
     "id": "f7a393a0-3225-4355-a942-13e81349542e",
     "prev": "5213303e-04e9-4e47-b523-4b2d5f7e28c8",
     "regions": {
      "8d6c3993-64c1-4396-8c96-41eec81650ab": {
       "attrs": {
        "height": 0.8,
        "width": 0.8,
        "x": 0.1,
        "y": 0.1
       },
       "content": {
        "cell": "f2e6e1f3-ebba-40bb-b017-fb7f79e902fd",
        "part": "whole"
       },
       "id": "8d6c3993-64c1-4396-8c96-41eec81650ab"
      }
     }
    }
   },
   "themes": {}
  }
 },
 "nbformat": 4,
 "nbformat_minor": 0
}
